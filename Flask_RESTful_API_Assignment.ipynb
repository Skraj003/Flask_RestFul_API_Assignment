{
  "cells": [
    {
      "cell_type": "markdown",
      "metadata": {
        "id": "J_MOaLRFy9h3"
      },
      "source": [
        "# Theoretical Questions."
      ],
      "id": "J_MOaLRFy9h3"
    },
    {
      "cell_type": "markdown",
      "metadata": {
        "id": "gBDFpd0py9h4"
      },
      "source": [
        "### 1. What is a RESTful API?\n",
        "A RESTful API is a web service that uses HTTP methods (GET, POST, PUT, DELETE) to perform CRUD operations on resources. It follows REST principles and represents data as resources identified by URLs."
      ],
      "id": "gBDFpd0py9h4"
    },
    {
      "cell_type": "markdown",
      "metadata": {
        "id": "P0Md-J8Hy9h4"
      },
      "source": [
        "### 2. Explain the concept of API specification?\n",
        "API specification defines the structure and behavior of an API, including endpoints, methods, parameters, responses, and authentication. Examples include OpenAPI and Swagger."
      ],
      "id": "P0Md-J8Hy9h4"
    },
    {
      "cell_type": "markdown",
      "metadata": {
        "id": "cPTAyYhHy9h5"
      },
      "source": [
        "### 3. What is Flask, and why is it popular for building APIs?\n",
        "Flask is a lightweight Python web framework. It's popular due to its simplicity, flexibility, minimalism, and strong community support. It allows rapid API development."
      ],
      "id": "cPTAyYhHy9h5"
    },
    {
      "cell_type": "markdown",
      "metadata": {
        "id": "y_HPj9hwy9h5"
      },
      "source": [
        "### 4. What is routing in Flask?\n",
        "Routing maps URLs to Python functions. Flask uses the `@app.route()` decorator to link a URL path to a view function."
      ],
      "id": "y_HPj9hwy9h5"
    },
    {
      "cell_type": "code",
      "execution_count": null,
      "metadata": {
        "id": "2XvVYAChy9h5"
      },
      "outputs": [],
      "source": [
        "# 5. How do you create a simple Flask application?\n",
        "from flask import Flask\n",
        "app = Flask(__name__)\n",
        "\n",
        "@app.route('/')\n",
        "def home():\n",
        "    return 'Hello, Flask!'\n",
        "\n",
        "if __name__ == '__main__':\n",
        "    app.run(debug=True)"
      ],
      "id": "2XvVYAChy9h5"
    },
    {
      "cell_type": "markdown",
      "metadata": {
        "id": "PzMjC6qny9h5"
      },
      "source": [
        "### 6. What are HTTP methods used in RESTful APIs?\n",
        "- GET: Retrieve data\n",
        "- POST: Create data\n",
        "- PUT: Update data\n",
        "- DELETE: Delete data\n",
        "- PATCH: Partial update"
      ],
      "id": "PzMjC6qny9h5"
    },
    {
      "cell_type": "markdown",
      "metadata": {
        "id": "O42D7-Oyy9h5"
      },
      "source": [
        "### 7. What is the purpose of the @app.route() decorator in Flask?\n",
        "It binds a URL to a function, telling Flask to run that function when the URL is accessed."
      ],
      "id": "O42D7-Oyy9h5"
    },
    {
      "cell_type": "markdown",
      "metadata": {
        "id": "wIesmujRy9h5"
      },
      "source": [
        "### 8. What is the difference between GET and POST HTTP methods?\n",
        "- **GET**: Retrieves data, parameters in URL, safe and idempotent.\n",
        "- **POST**: Sends data to the server, typically used for creation, parameters in body."
      ],
      "id": "wIesmujRy9h5"
    },
    {
      "cell_type": "markdown",
      "metadata": {
        "id": "KwIcuDU7y9h6"
      },
      "source": [
        "### 9. How do you handle errors in Flask APIs?\n",
        "Use `@app.errorhandler()` decorator or return custom error responses using `make_response()`."
      ],
      "id": "KwIcuDU7y9h6"
    },
    {
      "cell_type": "markdown",
      "metadata": {
        "id": "ynpvOqqTy9h6"
      },
      "source": [
        "### 10. How do you connect Flask to a SQL database?\n",
        "Using Flask-SQLAlchemy or a direct SQL connector like sqlite3 or psycopg2 for PostgreSQL."
      ],
      "id": "ynpvOqqTy9h6"
    },
    {
      "cell_type": "markdown",
      "metadata": {
        "id": "_IagQfgVy9h6"
      },
      "source": [
        "### 11. What is the role of Flask-SQLAlchemy?\n",
        "It is an ORM extension for Flask that simplifies database interactions and management using Python classes."
      ],
      "id": "_IagQfgVy9h6"
    },
    {
      "cell_type": "markdown",
      "metadata": {
        "id": "4RrJDCeBy9h6"
      },
      "source": [
        "### 12. What are Flask blueprints, and how are they useful?\n",
        "Blueprints are used for organizing Flask applications into modular components, helping with scalability and structure."
      ],
      "id": "4RrJDCeBy9h6"
    },
    {
      "cell_type": "markdown",
      "metadata": {
        "id": "8yex635-y9h6"
      },
      "source": [
        "### 13. What is the purpose of Flask's request object?\n",
        "It holds incoming request data, like form inputs, JSON payloads, headers, etc."
      ],
      "id": "8yex635-y9h6"
    },
    {
      "cell_type": "code",
      "execution_count": null,
      "metadata": {
        "id": "g2lTPz21y9h6"
      },
      "outputs": [],
      "source": [
        "# 14. How do you create a RESTful API endpoint using Flask?\n",
        "from flask import request\n",
        "\n",
        "@app.route('/api/data', methods=['POST'])\n",
        "def api_data():\n",
        "    data = request.json\n",
        "    return jsonify(data)"
      ],
      "id": "g2lTPz21y9h6"
    },
    {
      "cell_type": "markdown",
      "metadata": {
        "id": "gvUDm-kRy9h6"
      },
      "source": [
        "### 15. What is the purpose of Flask's jsonify() function?\n",
        "It converts Python dictionaries to JSON responses automatically setting the right MIME type."
      ],
      "id": "gvUDm-kRy9h6"
    },
    {
      "cell_type": "markdown",
      "metadata": {
        "id": "9hQteNzNy9h6"
      },
      "source": [
        "### 16. Explain Flask’s url_for() function?\n",
        "It generates a URL for a given endpoint name, useful for dynamic URLs in templates and redirects."
      ],
      "id": "9hQteNzNy9h6"
    },
    {
      "cell_type": "markdown",
      "metadata": {
        "id": "GgYi7btpy9h6"
      },
      "source": [
        "### 17. How does Flask handle static files?\n",
        "Static files like CSS/JS are placed in a `static/` folder, accessed via `/static/filename.ext` URL."
      ],
      "id": "GgYi7btpy9h6"
    },
    {
      "cell_type": "markdown",
      "metadata": {
        "id": "Mx3INrmhy9h6"
      },
      "source": [
        "### 18. What is an API specification, and how does it help in building a Flask API?\n",
        "It serves as a blueprint for development, ensuring consistency, documentation, and easier collaboration across teams."
      ],
      "id": "Mx3INrmhy9h6"
    },
    {
      "cell_type": "markdown",
      "metadata": {
        "id": "pT4segply9h6"
      },
      "source": [
        "### 19. What are HTTP status codes, and why are they important in a Flask API?\n",
        "They indicate the result of an HTTP request. E.g., 200 OK, 404 Not Found, 500 Internal Server Error.\n",
        "Helps clients understand the response status."
      ],
      "id": "pT4segply9h6"
    },
    {
      "cell_type": "code",
      "execution_count": null,
      "metadata": {
        "id": "UaZHPRqay9h7"
      },
      "outputs": [],
      "source": [
        "# 20. How do you handle POST requests in Flask?\n",
        "@app.route('/submit', methods=['POST'])\n",
        "def submit():\n",
        "    data = request.form['field']\n",
        "    return jsonify({'received': data})"
      ],
      "id": "UaZHPRqay9h7"
    },
    {
      "cell_type": "markdown",
      "metadata": {
        "id": "TPDejtCsy9h7"
      },
      "source": [
        "### 21. How would you secure a Flask API?\n",
        "- Use HTTPS\n",
        "- API authentication (JWT, API keys)\n",
        "- Input validation\n",
        "- Rate limiting\n",
        "- CORS policies"
      ],
      "id": "TPDejtCsy9h7"
    },
    {
      "cell_type": "markdown",
      "metadata": {
        "id": "uoLRZzPuy9h7"
      },
      "source": [
        "### 22. What is the significance of the Flask-RESTful extension?\n",
        "It adds support for quickly building REST APIs using resource-based classes instead of routes."
      ],
      "id": "uoLRZzPuy9h7"
    },
    {
      "cell_type": "markdown",
      "metadata": {
        "id": "ASk30ysly9h7"
      },
      "source": [
        "### 23. What is the role of Flask’s session object?\n",
        "It stores data (like user login state) across requests using cookies. Useful for small client-specific data."
      ],
      "id": "ASk30ysly9h7"
    },
    {
      "cell_type": "markdown",
      "metadata": {
        "id": "Mmk7DY2Oy9h7"
      },
      "source": [
        "# Practical Questions."
      ],
      "id": "Mmk7DY2Oy9h7"
    },
    {
      "cell_type": "code",
      "execution_count": null,
      "metadata": {
        "id": "Ri34W-Ygy9h7"
      },
      "outputs": [],
      "source": [
        "# 1. How do you create a basic Flask application?\n",
        "from flask import Flask\n",
        "app = Flask(__name__)\n",
        "\n",
        "@app.route('/')\n",
        "def index():\n",
        "    return 'Hello, World!'"
      ],
      "id": "Ri34W-Ygy9h7"
    },
    {
      "cell_type": "markdown",
      "metadata": {
        "id": "v_VS174Dy9h7"
      },
      "source": [
        "### 2. How do you serve static files like images or CSS in Flask?\n",
        "Place them in a folder named `static/`. Access them using `/static/filename` in your HTML.\n",
        "`<link rel='stylesheet' href='/static/styles.css'>`"
      ],
      "id": "v_VS174Dy9h7"
    },
    {
      "cell_type": "code",
      "execution_count": null,
      "metadata": {
        "id": "uaZSLFxay9h7"
      },
      "outputs": [],
      "source": [
        "# 3. How do you define different routes with different HTTP methods in Flask?\n",
        "@app.route('/submit', methods=['GET', 'POST'])\n",
        "def submit():\n",
        "    if request.method == 'POST':\n",
        "        return 'Form Submitted'\n",
        "    return 'Submit Form'"
      ],
      "id": "uaZSLFxay9h7"
    },
    {
      "cell_type": "markdown",
      "metadata": {
        "id": "BCBUZYIhy9h7"
      },
      "source": [
        "### 4. How do you render HTML templates in Flask?\n",
        "Use the `render_template()` function and store templates in a `templates/` directory."
      ],
      "id": "BCBUZYIhy9h7"
    },
    {
      "cell_type": "code",
      "execution_count": null,
      "metadata": {
        "id": "g9M4w8bTy9h7"
      },
      "outputs": [],
      "source": [
        "from flask import render_template\n",
        "\n",
        "@app.route('/welcome')\n",
        "def welcome():\n",
        "    return render_template('welcome.html')"
      ],
      "id": "g9M4w8bTy9h7"
    },
    {
      "cell_type": "markdown",
      "metadata": {
        "id": "PrKw1MOqy9h7"
      },
      "source": [
        "### 5. How can you generate URLs for routes in Flask using url_for?\n",
        "Use `url_for('function_name')`, optionally passing arguments for URL variables."
      ],
      "id": "PrKw1MOqy9h7"
    },
    {
      "cell_type": "code",
      "execution_count": null,
      "metadata": {
        "id": "iRhvWjHey9h8"
      },
      "outputs": [],
      "source": [
        "from flask import url_for\n",
        "\n",
        "@app.route('/dashboard')\n",
        "def dashboard():\n",
        "    return 'Dashboard'\n",
        "\n",
        "# In a template or redirect:\n",
        "# url_for('dashboard')"
      ],
      "id": "iRhvWjHey9h8"
    },
    {
      "cell_type": "markdown",
      "metadata": {
        "id": "nYLG_mJyy9h8"
      },
      "source": [
        "### 6. How do you handle forms in Flask?\n",
        "Use `request.form` to access form fields submitted via POST method."
      ],
      "id": "nYLG_mJyy9h8"
    },
    {
      "cell_type": "code",
      "execution_count": null,
      "metadata": {
        "id": "Ct_ijM1sy9h8"
      },
      "outputs": [],
      "source": [
        "from flask import request\n",
        "\n",
        "@app.route('/login', methods=['POST'])\n",
        "def login():\n",
        "    username = request.form['username']\n",
        "    return f'Welcome {username}'"
      ],
      "id": "Ct_ijM1sy9h8"
    },
    {
      "cell_type": "markdown",
      "metadata": {
        "id": "WJGVgxGzy9h8"
      },
      "source": [
        "### 7. How can you validate form data in Flask?\n",
        "Manually check fields or use extensions like WTForms for robust validation."
      ],
      "id": "WJGVgxGzy9h8"
    },
    {
      "cell_type": "markdown",
      "metadata": {
        "id": "vZ7HRvxEy9h8"
      },
      "source": [
        "### 8. How do you manage sessions in Flask?\n",
        "Use the `session` object. Set a secret key for session management.\n",
        "`session['key'] = value`"
      ],
      "id": "vZ7HRvxEy9h8"
    },
    {
      "cell_type": "code",
      "execution_count": null,
      "metadata": {
        "id": "zRAJDvP7y9h8"
      },
      "outputs": [],
      "source": [
        "from flask import session\n",
        "app.secret_key = 'mysecret'\n",
        "\n",
        "@app.route('/set')\n",
        "def set_session():\n",
        "    session['user'] = 'admin'\n",
        "    return 'Session Set'"
      ],
      "id": "zRAJDvP7y9h8"
    },
    {
      "cell_type": "markdown",
      "metadata": {
        "id": "aFP5QRKFy9h8"
      },
      "source": [
        "### 9. How do you redirect to a different route in Flask?\n",
        "Use the `redirect()` function with `url_for()`."
      ],
      "id": "aFP5QRKFy9h8"
    },
    {
      "cell_type": "code",
      "execution_count": null,
      "metadata": {
        "id": "VlkbiC-qy9h8"
      },
      "outputs": [],
      "source": [
        "from flask import redirect\n",
        "\n",
        "@app.route('/go-home')\n",
        "def go_home():\n",
        "    return redirect(url_for('index'))"
      ],
      "id": "VlkbiC-qy9h8"
    },
    {
      "cell_type": "markdown",
      "metadata": {
        "id": "VuCWGrL4y9iE"
      },
      "source": [
        "### 10. How do you handle errors in Flask (e.g., 404)?\n",
        "Use the `@app.errorhandler()` decorator."
      ],
      "id": "VuCWGrL4y9iE"
    },
    {
      "cell_type": "code",
      "execution_count": null,
      "metadata": {
        "id": "x29Em7tly9iE"
      },
      "outputs": [],
      "source": [
        "@app.errorhandler(404)\n",
        "def page_not_found(e):\n",
        "    return 'Page not found', 404"
      ],
      "id": "x29Em7tly9iE"
    },
    {
      "cell_type": "markdown",
      "metadata": {
        "id": "ZwzJDx_ey9iE"
      },
      "source": [
        "### 11. How do you structure a Flask app using Blueprints?\n",
        "Create a `Blueprint`, register it with the app using `app.register_blueprint()`."
      ],
      "id": "ZwzJDx_ey9iE"
    },
    {
      "cell_type": "code",
      "execution_count": null,
      "metadata": {
        "id": "nOi_ZyQ6y9iF"
      },
      "outputs": [],
      "source": [
        "from flask import Blueprint\n",
        "bp = Blueprint('admin', __name__)\n",
        "\n",
        "@bp.route('/admin')\n",
        "def admin():\n",
        "    return 'Admin Page'\n",
        "\n",
        "# In main app\n",
        "# app.register_blueprint(bp)"
      ],
      "id": "nOi_ZyQ6y9iF"
    },
    {
      "cell_type": "markdown",
      "metadata": {
        "id": "llISQ5q0y9iF"
      },
      "source": [
        "### 12. How do you define a custom Jinja filter in Flask?\n",
        "Define a function and use `app.template_filter()` to register it."
      ],
      "id": "llISQ5q0y9iF"
    },
    {
      "cell_type": "code",
      "execution_count": null,
      "metadata": {
        "id": "l926ABlAy9iF"
      },
      "outputs": [],
      "source": [
        "@app.template_filter('reverse')\n",
        "def reverse_filter(s):\n",
        "    return s[::-1]"
      ],
      "id": "l926ABlAy9iF"
    },
    {
      "cell_type": "markdown",
      "metadata": {
        "id": "GQ_kk8RHy9iF"
      },
      "source": [
        "### 13. How can you redirect with query parameters in Flask?\n",
        "Use `url_for()` with arguments and `redirect()`."
      ],
      "id": "GQ_kk8RHy9iF"
    },
    {
      "cell_type": "code",
      "execution_count": null,
      "metadata": {
        "id": "M-4W0EAky9iF"
      },
      "outputs": [],
      "source": [
        "@app.route('/go')\n",
        "def go():\n",
        "    return redirect(url_for('index', page=2))"
      ],
      "id": "M-4W0EAky9iF"
    },
    {
      "cell_type": "markdown",
      "metadata": {
        "id": "WqFaQaR-y9iF"
      },
      "source": [
        "### 14. How do you return JSON responses in Flask?\n",
        "Use `jsonify()` to return a dictionary as a JSON response."
      ],
      "id": "WqFaQaR-y9iF"
    },
    {
      "cell_type": "code",
      "execution_count": null,
      "metadata": {
        "id": "4Ad3L8sGy9iF"
      },
      "outputs": [],
      "source": [
        "from flask import jsonify\n",
        "\n",
        "@app.route('/json')\n",
        "def json_example():\n",
        "    return jsonify({'status': 'success'})"
      ],
      "id": "4Ad3L8sGy9iF"
    },
    {
      "cell_type": "markdown",
      "metadata": {
        "id": "8m4VedOcy9iF"
      },
      "source": [
        "### 15. How do you capture URL parameters in Flask?\n",
        "Use angle brackets in route URL and pass them as function arguments."
      ],
      "id": "8m4VedOcy9iF"
    },
    {
      "cell_type": "code",
      "execution_count": null,
      "metadata": {
        "id": "CAY3MkIOy9iF"
      },
      "outputs": [],
      "source": [
        "@app.route('/user/<username>')\n",
        "def user_profile(username):\n",
        "    return f'User: {username}'"
      ],
      "id": "CAY3MkIOy9iF"
    }
  ],
  "metadata": {
    "kernelspec": {
      "display_name": "Python 3",
      "language": "python",
      "name": "python3"
    },
    "language_info": {
      "name": "python",
      "version": "3.9"
    },
    "colab": {
      "provenance": []
    }
  },
  "nbformat": 4,
  "nbformat_minor": 5
}